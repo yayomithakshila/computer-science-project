{
 "cells": [
  {
   "cell_type": "markdown",
   "id": "733f94ef",
   "metadata": {},
   "source": [
    "\n"
   ]
  },
  {
   "cell_type": "markdown",
   "id": "35873774",
   "metadata": {},
   "source": [
    "# GROUP 4 -BASIC CALCULATOR\n",
    "## Assignment Date -: 14/03/2023"
   ]
  },
  {
   "cell_type": "markdown",
   "id": "c5c92eeb",
   "metadata": {},
   "source": [
    "## Team members -:\n",
    "* Kapila Kumarasiri Bandara\n",
    "* Yayomi Thakshila Premathilaka\n",
    "* Thilini Kumari Gamage\n"
   ]
  },
  {
   "cell_type": "markdown",
   "id": "8dde1c6c",
   "metadata": {},
   "source": [
    "### We choosed the question on create a basic calculator as our group project.The main reason for our selection  was we already created a basic calculator as our previous assignment and we can develop our project from there.\n",
    "\n"
   ]
  },
  {
   "cell_type": "markdown",
   "id": "86e625e3",
   "metadata": {},
   "source": [
    "### Importance of a calculator -:\n",
    "* A calculator can be a very useful tool for a variety of purposes,such as accuracy,speed,convenience and versatility. \n",
    "* It help the user to solve problems. Since they eliminate tedious computations and algebraic manipulations that discourage many students, calculators allow more students to solve problems and appreciate the power and value of mathematics in the world today.\n"
   ]
  },
  {
   "cell_type": "markdown",
   "id": "b58a40dc",
   "metadata": {},
   "source": [
    "# Introduction to the menu"
   ]
  },
  {
   "cell_type": "code",
   "execution_count": 9,
   "id": "5ed97e5f",
   "metadata": {},
   "outputs": [
    {
     "name": "stdout",
     "output_type": "stream",
     "text": [
      "\tBASIC CALCULATOR\n",
      "Choose an operation :\n",
      "1.Addition\n",
      "2.Subtraction\n",
      "3.Multiplication\n",
      "4.Division\n",
      "5.Second power\n",
      "6.Squre root\n",
      "7.Exit\n"
     ]
    }
   ],
   "source": [
    "print(\"\\t\"\"BASIC CALCULATOR\")\n",
    "import math \n",
    "        \n",
    "print(\"Choose an operation :\")\n",
    "print(\"1.Addition\")\n",
    "print(\"2.Subtraction\")\n",
    "print(\"3.Multiplication\")\n",
    "print(\"4.Division\")\n",
    "print(\"5.Second power\")\n",
    "print(\"6.Squre root\")\n",
    "print(\"7.Exit\")\n",
    "    "
   ]
  },
  {
   "cell_type": "markdown",
   "id": "8d43f74d",
   "metadata": {},
   "source": [
    "#  Input an operation"
   ]
  },
  {
   "cell_type": "code",
   "execution_count": null,
   "id": "9408ad63",
   "metadata": {},
   "outputs": [
    {
     "name": "stdout",
     "output_type": "stream",
     "text": [
      "Input your operation (1-7): 8\n",
      "Invalid input.Please enter your operation (1-7)\n"
     ]
    }
   ],
   "source": [
    "while True:\n",
    "    operator=input(\"Input your operation (1-7): \")\n",
    "    if operator in [\"1\",\"2\",\"3\",\"4\",\"5\",\"6\",\"7\"]:\n",
    "        break\n",
    "    else:\n",
    "        print(\"Invalid input.Please enter your operation (1-7)\" )\n",
    "        continue\n",
    "      "
   ]
  },
  {
   "cell_type": "markdown",
   "id": "06ef8954",
   "metadata": {},
   "source": [
    " # Codes for the operations"
   ]
  },
  {
   "cell_type": "markdown",
   "id": "d799def9",
   "metadata": {},
   "source": [
    "## Code for addition"
   ]
  },
  {
   "cell_type": "code",
   "execution_count": null,
   "id": "4e8f34b1",
   "metadata": {},
   "outputs": [],
   "source": [
    "if operator == \"1\":      \n",
    "        num1=float(input(\"Enter 1st number:\"))\n",
    "        num2=float(input(\"Enter 2nd number:\"))\n",
    "        sum=num1+num2\n",
    "        print(\"The sum :\",sum)\n",
    "        operator=input(\"Choose the next operation: \")"
   ]
  },
  {
   "cell_type": "markdown",
   "id": "61c25c23",
   "metadata": {},
   "source": [
    "#  Code for subtraction"
   ]
  },
  {
   "cell_type": "code",
   "execution_count": null,
   "id": "e2aabcc0",
   "metadata": {},
   "outputs": [],
   "source": [
    "if operator == \"2\":      \n",
    "    num1=float(input(\"Enter 1st number:\"))\n",
    "    num2=float(input(\"Enter 2nd number:\"))\n",
    "    diff=num1-num2\n",
    "    print(\"The difference is :\",diff)\n",
    "    operator=input(\"Choose the next operation: \")\n",
    "    "
   ]
  },
  {
   "cell_type": "markdown",
   "id": "88ff2786",
   "metadata": {},
   "source": [
    "# Code for multiplication"
   ]
  },
  {
   "cell_type": "code",
   "execution_count": null,
   "id": "9a43ddae",
   "metadata": {},
   "outputs": [],
   "source": [
    "if operator == \"3\":      \n",
    "    num1=float(input(\"Enter 1st number:\"))\n",
    "    num2=float(input(\"Enter 2nd number:\"))\n",
    "    multiplication=num1*num2\n",
    "    print(\"The multiplication is :\",multiplication)\n",
    "    operator=input(\"Choose the next operation: \")\n",
    "                                        "
   ]
  },
  {
   "cell_type": "markdown",
   "id": "53192089",
   "metadata": {},
   "source": [
    "# Code for division"
   ]
  },
  {
   "cell_type": "code",
   "execution_count": null,
   "id": "85a23de6",
   "metadata": {},
   "outputs": [],
   "source": [
    "if operator == \"4\":    \n",
    "    num1=float(input(\"Enter 1st number:\"))\n",
    "    num2=float(input(\"Enter 2nd number:\"))\n",
    "    division=num1/num2\n",
    "    print(\"The division is :\",division)\n",
    "    operator=input(\"Choose the next operation: \")\n",
    "    "
   ]
  },
  {
   "cell_type": "markdown",
   "id": "af6a2e71",
   "metadata": {},
   "source": [
    "# Code for second power"
   ]
  },
  {
   "cell_type": "code",
   "execution_count": null,
   "id": "a86d53e2",
   "metadata": {},
   "outputs": [],
   "source": [
    "if operator == \"5\":     \n",
    "    num1=float(input(\"Enter the number:\"))\n",
    "    second_power=num1*num1\n",
    "    print(\"The second power is :\",second_power)\n",
    "    operator=input(\"Choose the next operation: \")"
   ]
  },
  {
   "cell_type": "markdown",
   "id": "a0512b42",
   "metadata": {},
   "source": [
    "# Code for square root"
   ]
  },
  {
   "cell_type": "code",
   "execution_count": null,
   "id": "51da047c",
   "metadata": {},
   "outputs": [],
   "source": [
    "if operator == \"6\":    \n",
    "    num1=float(input(\"Enter the number:\"))\n",
    "    square_root=math.sqrt(num1)\n",
    "    print(\"The square root is :\",square_root)\n",
    "    operator=input(\"Choose the next operation: \")\n",
    "    "
   ]
  },
  {
   "cell_type": "markdown",
   "id": "3cd95600",
   "metadata": {},
   "source": [
    "# Code for exit"
   ]
  },
  {
   "cell_type": "code",
   "execution_count": null,
   "id": "1c4559a3",
   "metadata": {},
   "outputs": [],
   "source": [
    "if operator == \"7\":    \n",
    "    print(\"Yes You can Exit\")\n",
    "    \n",
    "            "
   ]
  },
  {
   "cell_type": "markdown",
   "id": "adc32f44",
   "metadata": {},
   "source": [
    "### In conclution, a calculator can be a valuable tool for anyone who needs to work with numbers on a regular basis. Whether you're a student, a professional, or just someone who needs to do a lot of math, a calculator can help you work faster, more accurately, and more conveniently."
   ]
  }
 ],
 "metadata": {
  "kernelspec": {
   "display_name": "Python 3 (ipykernel)",
   "language": "python",
   "name": "python3"
  },
  "language_info": {
   "codemirror_mode": {
    "name": "ipython",
    "version": 3
   },
   "file_extension": ".py",
   "mimetype": "text/x-python",
   "name": "python",
   "nbconvert_exporter": "python",
   "pygments_lexer": "ipython3",
   "version": "3.9.13"
  }
 },
 "nbformat": 4,
 "nbformat_minor": 5
}
